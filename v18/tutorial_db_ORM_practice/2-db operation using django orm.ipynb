{
 "cells": [
  {
   "cell_type": "code",
   "execution_count": 1,
   "id": "d42ac35f",
   "metadata": {},
   "outputs": [],
   "source": [
    "import os\n",
    "import sys\n",
    "import pandas as pd\n",
    "import argparse\n",
    "from datetime import datetime, timedelta\n",
    "import pathlib\n",
    "\n",
    "# 新增：將上一層目錄加入 sys.path\n",
    "parent_path = pathlib.Path().absolute().parent\n",
    "sys.path.insert(0, str(parent_path))\n",
    "# Setup Django environment\n",
    "os.environ.setdefault('DJANGO_SETTINGS_MODULE', 'website_configs.settings')\n",
    "import django\n",
    "django.setup()\n",
    "# 重要：設定環境變數以允許在 Jupyter 的異步環境中執行同步操作\n",
    "os.environ[\"DJANGO_ALLOW_ASYNC_UNSAFE\"] = \"true\"\n",
    "\n",
    "# Now we can import Django models\n",
    "from app_user_keyword_db.models import NewsData"
   ]
  },
  {
   "cell_type": "markdown",
   "id": "fad2fc61",
   "metadata": {},
   "source": [
    "# Django ORM CRUD Operations Tutorial\n",
    "\n",
    "CRUD stands for Create, Read, Update, and Delete - the four basic operations for database management systems. In this tutorial, we'll explore how to perform these operations using Django ORM with the NewsData model.\n",
    "\n",
    "## NewsData Model Structure\n",
    "\n",
    "Let's first examine the structure of our NewsData model to understand its fields."
   ]
  },
  {
   "cell_type": "code",
   "execution_count": 2,
   "id": "653417c6",
   "metadata": {},
   "outputs": [
    {
     "name": "stdout",
     "output_type": "stream",
     "text": [
      "NewsData Model Fields:\n",
      "- item_id: CharField\n",
      "- date: DateField\n",
      "- category: CharField\n",
      "- title: TextField\n",
      "- content: TextField\n",
      "- sentiment: FloatField\n",
      "- top_key_freq: TextField\n",
      "- tokens: TextField\n",
      "- tokens_v2: TextField\n",
      "- entities: TextField\n",
      "- token_pos: TextField\n",
      "- link: CharField\n",
      "- photo_link: CharField\n",
      "\n",
      "Total news entries in database: 69\n"
     ]
    }
   ],
   "source": [
    "# Inspect the NewsData model fields\n",
    "print('NewsData Model Fields:')\n",
    "for field in NewsData._meta.get_fields():\n",
    "    print(f'- {field.name}: {field.get_internal_type()}')\n",
    "\n",
    "# Display total count of news entries\n",
    "print(f'\\nTotal news entries in database: {NewsData.objects.count()}')"
   ]
  },
  {
   "cell_type": "markdown",
   "id": "5c620dbf",
   "metadata": {},
   "source": [
    "## 1. Create (C) - Adding New Data\n",
    "\n",
    "The 'Create' operation allows us to insert new records into the database. Here are different ways to create new NewsData objects."
   ]
  },
  {
   "cell_type": "code",
   "execution_count": 3,
   "id": "afa07ecb",
   "metadata": {},
   "outputs": [
    {
     "name": "stdout",
     "output_type": "stream",
     "text": [
      "Created news item: 馬斯克蒞臨高科大 (ID: )\n",
      "Note: The other examples are commented out to prevent adding test data to your database.\n"
     ]
    }
   ],
   "source": [
    "# Method 1: Create using the constructor and save() method\n",
    "new_news1 = NewsData(\n",
    "    title=\"馬斯克蒞臨高科大\",\n",
    "    link=\"https://example.com/news1\",\n",
    "    category=\"測試類別\",\n",
    "    content=\"This is a sample content about technology news for demonstration.\",\n",
    "    date=datetime.now().date(),\n",
    "    photo_link=\"https://example.com/image1.jpg\"\n",
    ")\n",
    "# Uncomment to save: new_news1.save()\n",
    "\n",
    "# Method 2: Using objects.create() method\n",
    "# This creates and saves in one step\n",
    "new_news2 = NewsData.objects.create(\n",
    "    title=\"馬斯克蒞臨高科大\",\n",
    "    link=\"https://example.com/news2\",\n",
    "    category=\"測試類別\",\n",
    "    content=\"This is sample content about international news for demonstration.\",\n",
    "    date=datetime.now().date(),\n",
    "    photo_link=None  # Shows that photo_link can be optional\n",
    ")\n",
    "\n",
    "# Method 3: Bulk creation (for adding multiple records at once)\n",
    "news_list = [\n",
    "    NewsData(\n",
    "        title=f\"Bulk Example {i}\", \n",
    "        link=f\"https://example.com/bulk{i}\",\n",
    "        category=\"測試類別\",\n",
    "        content=f\"Bulk created content {i}\",\n",
    "        date=datetime.now().date()\n",
    "    ) for i in range(3, 6)\n",
    "]\n",
    "# Uncomment to save: NewsData.objects.bulk_create(news_list)\n",
    "\n",
    "print(f\"Created news item: {new_news2.title} (ID: {new_news2.item_id})\")\n",
    "print(\"Note: The other examples are commented out to prevent adding test data to your database.\")"
   ]
  },
  {
   "cell_type": "code",
   "execution_count": 4,
   "id": "e5313432",
   "metadata": {},
   "outputs": [
    {
     "data": {
      "text/plain": [
       "(1, {'app_user_keyword_db.NewsData': 1})"
      ]
     },
     "execution_count": 4,
     "metadata": {},
     "output_type": "execute_result"
    }
   ],
   "source": [
    "\n",
    "# Clean up - delete the example we created\n",
    "new_news2.delete()"
   ]
  },
  {
   "cell_type": "code",
   "execution_count": null,
   "id": "4177bf38",
   "metadata": {},
   "outputs": [],
   "source": []
  },
  {
   "cell_type": "markdown",
   "id": "394b0ffc",
   "metadata": {},
   "source": [
    "## 2. Read (R) - Querying Data\n",
    "\n",
    "The 'Read' operation retrieves data from the database. Django ORM provides powerful ways to query data."
   ]
  },
  {
   "cell_type": "code",
   "execution_count": 5,
   "id": "a2c5044d",
   "metadata": {},
   "outputs": [
    {
     "name": "stdout",
     "output_type": "stream",
     "text": [
      "Total news items: 69\n"
     ]
    }
   ],
   "source": [
    "# Basic querying examples\n",
    "\n",
    "# 1. Get all records\n",
    "all_news = NewsData.objects.all()\n",
    "print(f\"Total news items: {all_news.count()}\")\n"
   ]
  },
  {
   "cell_type": "code",
   "execution_count": 6,
   "id": "36cc4d40",
   "metadata": {},
   "outputs": [
    {
     "name": "stdout",
     "output_type": "stream",
     "text": [
      "\n",
      "News by ID finance_20250324_8: 股市一直跌誰最慘？「1類人」恐成海嘯第一排　專家曝3方法降低風險\n"
     ]
    }
   ],
   "source": [
    "\n",
    "# 2. Get a specific record by ID\n",
    "try:\n",
    "    first_id = NewsData.objects.first().item_id\n",
    "    specific_news = NewsData.objects.get(item_id=first_id)\n",
    "    print(f\"\\nNews by ID {first_id}: {specific_news.title}\")\n",
    "except:\n",
    "    print(\"Couldn't retrieve news by ID\")\n"
   ]
  },
  {
   "cell_type": "code",
   "execution_count": 8,
   "id": "ce5c288e",
   "metadata": {},
   "outputs": [
    {
     "name": "stdout",
     "output_type": "stream",
     "text": [
      "\n",
      "Technology news count: 10\n",
      "Example tech news: 特朗普宣布美國對進口汽車徵收25%關稅\n"
     ]
    }
   ],
   "source": [
    "\n",
    "# 3. Filter records\n",
    "# Get news from a specific category\n",
    "tech_news = NewsData.objects.filter(category=\"國際\")\n",
    "print(f\"\\nTechnology news count: {tech_news.count()}\")\n",
    "if tech_news.exists():\n",
    "    print(f\"Example tech news: {tech_news.first().title}\")\n"
   ]
  },
  {
   "cell_type": "code",
   "execution_count": 10,
   "id": "0c696887",
   "metadata": {},
   "outputs": [
    {
     "name": "stdout",
     "output_type": "stream",
     "text": [
      "\n",
      "News from the last 7 days: 69\n"
     ]
    }
   ],
   "source": [
    "\n",
    "# 4. Complex filtering\n",
    "# Get news from the last 7 days\n",
    "one_week_ago = datetime.now().date() - timedelta(days=7)\n",
    "recent_news = NewsData.objects.filter(date__gte=one_week_ago)\n",
    "print(f\"\\nNews from the last 7 days: {recent_news.count()}\")\n"
   ]
  },
  {
   "cell_type": "code",
   "execution_count": 11,
   "id": "316c6e3e",
   "metadata": {},
   "outputs": [
    {
     "name": "stdout",
     "output_type": "stream",
     "text": [
      "\n",
      "5 most recent news:\n",
      "- world_20250327_1 2025-03-27:國際 特朗普宣布美國對進口汽車徵收25%關稅\n",
      "- world_20250327_2 2025-03-27:國際 香港長和賣港口 中國商務部專家批「在商不言商」\n",
      "- world_20250327_3 2025-03-27:國際 川普上任兩個月 各項關稅概況一覽\n",
      "- world_20250327_4 2025-03-27:國際 中國男大生坐「共享單車兒童椅」　卡死出不來！急求助消防員\n",
      "- world_20250327_5 2025-03-27:國際 陸2旅客身藏「28隻活體龜」入境…遭海關查獲　離譜走私手法曝\n"
     ]
    }
   ],
   "source": [
    "\n",
    "# 5. Ordering\n",
    "latest_news = NewsData.objects.order_by('-date')[:5]  # Get 5 most recent news\n",
    "print(\"\\n5 most recent news:\")\n",
    "for news in latest_news:\n",
    "    print(f\"- {news.item_id} {news.date}:{news.category} {news.title}\")\n"
   ]
  },
  {
   "cell_type": "code",
   "execution_count": 12,
   "id": "427352ca",
   "metadata": {},
   "outputs": [
    {
     "name": "stdout",
     "output_type": "stream",
     "text": [
      "\n",
      "Some news titles:\n",
      "- ('特朗普宣布美國對進口汽車徵收25%關稅',)\n",
      "- ('香港長和賣港口 中國商務部專家批「在商不言商」',)\n",
      "- ('川普上任兩個月 各項關稅概況一覽',)\n"
     ]
    }
   ],
   "source": [
    "\n",
    "# 6. Specific fields selection\n",
    "titles_only = NewsData.objects.values_list('title')[:3]\n",
    "print(\"\\nSome news titles:\")\n",
    "for title in titles_only:\n",
    "    print(f\"- {title}\")\n"
   ]
  },
  {
   "cell_type": "code",
   "execution_count": 30,
   "id": "215777d7",
   "metadata": {},
   "outputs": [
    {
     "data": {
      "text/plain": [
       "<QuerySet [('外交部援烏物資已募4000箱 吳釗燮感謝捐贈民眾',), ('幻象飛官獲救 空軍：掌握跳傘時機做出好示範',), ('法製幻象零附件取得不易 空軍：妥善率沒問題',)]>"
      ]
     },
     "execution_count": 30,
     "metadata": {},
     "output_type": "execute_result"
    }
   ],
   "source": [
    "titles_only"
   ]
  },
  {
   "cell_type": "code",
   "execution_count": 13,
   "id": "6e7de914",
   "metadata": {},
   "outputs": [
    {
     "name": "stdout",
     "output_type": "stream",
     "text": [
      "\n",
      "Some news titles:\n",
      "- 特朗普宣布美國對進口汽車徵收25%關稅\n",
      "- 香港長和賣港口 中國商務部專家批「在商不言商」\n",
      "- 川普上任兩個月 各項關稅概況一覽\n"
     ]
    }
   ],
   "source": [
    "\n",
    "# 6. Specific fields selection\n",
    "titles_only = NewsData.objects.values_list('title', flat=True)[:3]\n",
    "print(\"\\nSome news titles:\")\n",
    "for title in titles_only:\n",
    "    print(f\"- {title}\")\n"
   ]
  },
  {
   "cell_type": "code",
   "execution_count": 14,
   "id": "38eedc74",
   "metadata": {},
   "outputs": [
    {
     "name": "stdout",
     "output_type": "stream",
     "text": [
      "\n",
      "News mentioning '台灣': 14\n"
     ]
    }
   ],
   "source": [
    "\n",
    "# 7. Text search (simple contains)\n",
    "keyword = \"台灣\"\n",
    "matching_news = NewsData.objects.filter(content__contains=keyword).count()\n",
    "print(f\"\\nNews mentioning '{keyword}': {matching_news}\")"
   ]
  },
  {
   "cell_type": "code",
   "execution_count": 15,
   "id": "86c1f8da",
   "metadata": {},
   "outputs": [],
   "source": [
    "from django.db.models import Q, Max, F\n",
    "from collections import Counter"
   ]
  },
  {
   "cell_type": "markdown",
   "id": "08aa1b16",
   "metadata": {},
   "source": [
    "## 3. Update (U) - Modifying Data\n",
    "\n",
    "The 'Update' operation modifies existing records in the database. There are several ways to update data in Django."
   ]
  },
  {
   "cell_type": "code",
   "execution_count": 16,
   "id": "7bfcf92e",
   "metadata": {},
   "outputs": [],
   "source": [
    "# Let's demonstrate updates with a temporary test record\n",
    "test_news = NewsData.objects.create(\n",
    "    title=\"Test News for Update Demo\",\n",
    "    link=\"https://example.com/test-update\",\n",
    "    category=\"測試\",\n",
    "    content=\"This is a temporary record to show update operations.\",\n",
    "    date=datetime.now().date()\n",
    ")\n"
   ]
  },
  {
   "cell_type": "code",
   "execution_count": 17,
   "id": "6c7b961c",
   "metadata": {},
   "outputs": [
    {
     "name": "stdout",
     "output_type": "stream",
     "text": [
      "Original title: Test News for Update Demo\n",
      "Updated title: Updated Test News Title, Category: 更新測試\n"
     ]
    }
   ],
   "source": [
    "\n",
    "# Method 1: Instance update\n",
    "print(f\"Original title: {test_news.title}\")\n",
    "test_news.title = \"Updated Test News Title\"\n",
    "test_news.category = \"更新測試\"\n",
    "test_news.save()\n",
    "print(f\"Updated title: {test_news.title}, Category: {test_news.category}\")\n"
   ]
  },
  {
   "cell_type": "code",
   "execution_count": 18,
   "id": "1afb0421",
   "metadata": {},
   "outputs": [
    {
     "name": "stdout",
     "output_type": "stream",
     "text": [
      "\n",
      "Records updated via QuerySet: 1\n"
     ]
    }
   ],
   "source": [
    "\n",
    "# Method 2: QuerySet update (more efficient for multiple records)\n",
    "# This updates all matching records without loading them into memory\n",
    "update_count = NewsData.objects.filter(item_id=test_news.item_id).update(\n",
    "    content=\"This content was updated using QuerySet.update() method.\",\n",
    "    photo_link=\"https://example.com/updated-image.jpg\"\n",
    ")\n",
    "print(f\"\\nRecords updated via QuerySet: {update_count}\")\n"
   ]
  },
  {
   "cell_type": "code",
   "execution_count": 19,
   "id": "154d94aa",
   "metadata": {},
   "outputs": [
    {
     "data": {
      "text/plain": [
       "(1, {'app_user_keyword_db.NewsData': 1})"
      ]
     },
     "execution_count": 19,
     "metadata": {},
     "output_type": "execute_result"
    }
   ],
   "source": [
    "test_news.delete()"
   ]
  },
  {
   "cell_type": "markdown",
   "id": "d6dabbfb",
   "metadata": {},
   "source": [
    "## 4. Delete (D) - Removing Data\n",
    "\n",
    "The 'Delete' operation removes records from the database. Django provides various methods to delete data."
   ]
  },
  {
   "cell_type": "code",
   "execution_count": 20,
   "id": "195e6d7c",
   "metadata": {},
   "outputs": [],
   "source": [
    "# Let's demonstrate updates with a temporary test record\n",
    "test_news = NewsData.objects.create(\n",
    "    item_id=\"item-123\",  # This will be auto-generated by the database\n",
    "    title=\"Test News for Update Demo\",\n",
    "    link=\"https://example.com/test-update\",\n",
    "    category=\"刪除測試\",\n",
    "    content=\"This is a temporary record to show update operations.\",\n",
    "    date=datetime.now().date()\n",
    ")\n"
   ]
  },
  {
   "cell_type": "code",
   "execution_count": 21,
   "id": "0f16644e",
   "metadata": {},
   "outputs": [
    {
     "data": {
      "text/plain": [
       "(1, {'app_user_keyword_db.NewsData': 1})"
      ]
     },
     "execution_count": 21,
     "metadata": {},
     "output_type": "execute_result"
    }
   ],
   "source": [
    "NewsData.objects.get(item_id=\"item-123\").delete()"
   ]
  },
  {
   "cell_type": "code",
   "execution_count": 22,
   "id": "19596597",
   "metadata": {},
   "outputs": [
    {
     "data": {
      "text/plain": [
       "<QuerySet []>"
      ]
     },
     "execution_count": 22,
     "metadata": {},
     "output_type": "execute_result"
    }
   ],
   "source": [
    "NewsData.objects.filter( category=\"刪除測試\")"
   ]
  },
  {
   "cell_type": "code",
   "execution_count": 23,
   "id": "84656462",
   "metadata": {},
   "outputs": [
    {
     "data": {
      "text/plain": [
       "(0, {})"
      ]
     },
     "execution_count": 23,
     "metadata": {},
     "output_type": "execute_result"
    }
   ],
   "source": [
    "NewsData.objects.filter( category=\"刪除測試\").delete()"
   ]
  },
  {
   "cell_type": "code",
   "execution_count": null,
   "id": "9022ff07",
   "metadata": {},
   "outputs": [],
   "source": []
  },
  {
   "cell_type": "markdown",
   "id": "c4e66d7d",
   "metadata": {},
   "source": [
    "# filter_database_fullText"
   ]
  },
  {
   "cell_type": "code",
   "execution_count": 24,
   "id": "7477622a",
   "metadata": {},
   "outputs": [],
   "source": [
    "# Searching keywords from \"content\" column\n",
    "# This function now uses database queries instead of pandas\n",
    "def filter_database_fullText(user_keywords, cond, cate, weeks):\n",
    "    # Get the latest date in the database\n",
    "    latest_date = NewsData.objects.aggregate(max_date=Max('date'))['max_date']\n",
    "    \n",
    "    # Calculate start date\n",
    "    start_date = latest_date - timedelta(weeks=weeks)\n",
    "    \n",
    "    # Base query - filter by date range\n",
    "    queryset = NewsData.objects.filter(date__gte=start_date, date__lte=latest_date)\n",
    "    \n",
    "    # Filter by category if not \"全部\"\n",
    "    if cate != \"全部\":\n",
    "        queryset = queryset.filter(category=cate)\n",
    "    \n",
    "    # Filter by keywords based on condition (AND or OR)\n",
    "    if cond == 'and':\n",
    "        # For AND condition, we need all keywords to be present\n",
    "        for kw in user_keywords:\n",
    "            queryset = queryset.filter(content__contains=kw)\n",
    "    elif cond == 'or':\n",
    "        # For OR condition, any keyword can be present\n",
    "        q_objects = Q()\n",
    "        for kw in user_keywords:\n",
    "            q_objects |= Q(content__contains=kw)\n",
    "        # q_objects會長這樣： Q(content__contains=kw1) | Q(content__contains=kw2) | Q(content__contains=kw3)\n",
    "        # 這樣就可以用在filter裡面了\n",
    "        queryset = queryset.filter(q_objects)\n",
    "    \n",
    "    return queryset"
   ]
  },
  {
   "cell_type": "code",
   "execution_count": 32,
   "id": "f2c64d20",
   "metadata": {},
   "outputs": [],
   "source": [
    "\n",
    "user_keywords = ['川普', '俄羅斯']  # Example keywords\n",
    "cond = 'or'  # Example condition (and/or), \n",
    "cate = '全部'  # Example category (or \"全部\" for all categories)\n",
    "weeks = 4  # Example weeks\n",
    "queryset = filter_database_fullText(user_keywords, cond, cate, weeks)"
   ]
  },
  {
   "cell_type": "code",
   "execution_count": 33,
   "id": "7461b02c",
   "metadata": {},
   "outputs": [
    {
     "name": "stdout",
     "output_type": "stream",
     "text": [
      "川普上任兩個月 各項關稅概況一覽\n",
      "法院文件揭密 司法部高層施壓撤銷亞當斯案\n",
      "餐廳重設戶外餐區 華埠小商家因2原因對生意仍信心不足\n",
      "躲不過川普「汽車關稅」！新車價格喊漲　驚人數字曝光\n",
      "收盤／危險啊！權值股倒成一片　大盤跌破2萬2！\n",
      "股市一直跌誰最慘？「1類人」恐成海嘯第一排　專家曝3方法降低風險\n"
     ]
    }
   ],
   "source": [
    "for news in queryset:\n",
    "    print(news.title)"
   ]
  },
  {
   "cell_type": "code",
   "execution_count": 34,
   "id": "4e276c32",
   "metadata": {},
   "outputs": [],
   "source": [
    "# Limit to k results and get specific fields\n",
    "news_items = queryset.values('category', 'title', 'link', 'photo_link')[:3]"
   ]
  },
  {
   "cell_type": "code",
   "execution_count": 35,
   "id": "16648dab",
   "metadata": {},
   "outputs": [
    {
     "data": {
      "text/plain": [
       "<QuerySet [{'category': '國際', 'title': '川普上任兩個月 各項關稅概況一覽', 'link': 'https://tw.news.yahoo.com/%E5%B7%9D%E6%99%AE%E4%B8%8A%E4%BB%BB%E5%85%A9%E5%80%8B%E6%9C%88-%E5%90%84%E9%A0%85%E9%97%9C%E7%A8%85%E6%A6%82%E6%B3%81-%E8%A6%BD-070602268.html', 'photo_link': None}, {'category': '國際', 'title': '法院文件揭密 司法部高層施壓撤銷亞當斯案', 'link': 'https://tw.news.yahoo.com/%E6%B3%95%E9%99%A2%E6%96%87%E4%BB%B6%E6%8F%AD%E5%AF%86-%E5%8F%B8%E6%B3%95%E9%83%A8%E9%AB%98%E5%B1%A4%E6%96%BD%E5%A3%93%E6%92%A4%E9%8A%B7%E4%BA%9E%E7%95%B6%E6%96%AF%E6%A1%88-063116606.html', 'photo_link': None}, {'category': '國際', 'title': '餐廳重設戶外餐區 華埠小商家因2原因對生意仍信心不足', 'link': 'https://tw.news.yahoo.com/%E9%A4%90%E5%BB%B3%E9%87%8D%E8%A8%AD%E6%88%B6%E5%A4%96%E9%A4%90%E5%8D%80-%E8%8F%AF%E5%9F%A0%E5%B0%8F%E5%95%86%E5%AE%B6%E5%9B%A02%E5%8E%9F%E5%9B%A0%E5%B0%8D%E7%94%9F%E6%84%8F%E4%BB%8D%E4%BF%A1%E5%BF%83%E4%B8%8D%E8%B6%B3-062900330.html', 'photo_link': 'https://s.yimg.com/uu/api/res/1.2/sQvI4HVzFa0tBIg6cYZ94A--~B/Zmk9c3RyaW07aD0yMDA7cT04MDt3PTIwMDthcHBpZD15dGFjaHlvbg--/https://media.zenfs.com/ko/__60/7eabac25f89298ec2d1a38b61930775d.cf.jpg'}]>"
      ]
     },
     "execution_count": 35,
     "metadata": {},
     "output_type": "execute_result"
    }
   ],
   "source": [
    "news_items"
   ]
  },
  {
   "cell_type": "code",
   "execution_count": 36,
   "id": "cb2d9d28",
   "metadata": {},
   "outputs": [
    {
     "data": {
      "text/plain": [
       "[datetime.date(2025, 3, 27),\n",
       " datetime.date(2025, 3, 27),\n",
       " datetime.date(2025, 3, 27),\n",
       " datetime.date(2025, 3, 27),\n",
       " datetime.date(2025, 3, 27),\n",
       " datetime.date(2025, 3, 24)]"
      ]
     },
     "execution_count": 36,
     "metadata": {},
     "output_type": "execute_result"
    }
   ],
   "source": [
    "list(queryset.values_list('date', flat=True)) # flat=True to get a flat list 否則會是 tuple"
   ]
  },
  {
   "cell_type": "code",
   "execution_count": 37,
   "id": "da0cf83c",
   "metadata": {},
   "outputs": [],
   "source": [
    "latest_date = NewsData.objects.aggregate(max_date=Max('date'))['max_date']"
   ]
  },
  {
   "cell_type": "code",
   "execution_count": 38,
   "id": "3485c240",
   "metadata": {},
   "outputs": [
    {
     "data": {
      "text/plain": [
       "datetime.date(2025, 3, 27)"
      ]
     },
     "execution_count": 38,
     "metadata": {},
     "output_type": "execute_result"
    }
   ],
   "source": [
    "latest_date"
   ]
  },
  {
   "cell_type": "code",
   "execution_count": 39,
   "id": "22b70b89",
   "metadata": {},
   "outputs": [
    {
     "name": "stdout",
     "output_type": "stream",
     "text": [
      "Basic aggregations:\n",
      "- count: 69\n",
      "- oldest: 2025-03-24\n",
      "- newest: 2025-03-27\n"
     ]
    }
   ],
   "source": [
    "from django.db.models import Avg, Count, Min, Max, Sum\n",
    "from django.db.models.functions import Extract\n",
    "\n",
    "# Aggregate是用來計算總和、平均值、最小值、最大值等統計數據的函數\n",
    "# 這些函數可以用來對查詢集進行聚合計算，並返回一個字典，其中包含計算結果的鍵值對\n",
    "# Basic aggregation examples\n",
    "aggregations = NewsData.objects.aggregate(\n",
    "    count=Count('item_id'),\n",
    "    oldest=Min('date'),\n",
    "    newest=Max('date'),\n",
    ")\n",
    "print(\"Basic aggregations:\")\n",
    "for key, value in aggregations.items():\n",
    "    print(f\"- {key}: {value}\")\n"
   ]
  },
  {
   "cell_type": "code",
   "execution_count": 40,
   "id": "35efcc7b",
   "metadata": {},
   "outputs": [
    {
     "name": "stdout",
     "output_type": "stream",
     "text": [
      "\n",
      "Top 5 categories by count:\n",
      "- 遊戲3C: 10 articles\n",
      "- 財經: 10 articles\n",
      "- 社會地方: 10 articles\n",
      "- 政治: 10 articles\n",
      "- 國際: 10 articles\n"
     ]
    }
   ],
   "source": [
    "\n",
    "# Category-based aggregation\n",
    "category_counts = NewsData.objects.values('category').annotate(\n",
    "    count=Count('item_id')\n",
    ").order_by('-count')[:5]  # Top 5 categories\n",
    "print(\"\\nTop 5 categories by count:\")\n",
    "for item in category_counts:\n",
    "    print(f\"- {item['category']}: {item['count']} articles\")"
   ]
  },
  {
   "cell_type": "code",
   "execution_count": 41,
   "id": "de40a737",
   "metadata": {},
   "outputs": [
    {
     "name": "stdout",
     "output_type": "stream",
     "text": [
      "\n",
      "Articles per day (most recent 7 days with data):\n",
      "- 2025-03-27: 55 articles\n",
      "- 2025-03-26: 7 articles\n",
      "- 2025-03-25: 4 articles\n",
      "- 2025-03-24: 3 articles\n"
     ]
    }
   ],
   "source": [
    "# annotate是用來在查詢集中添加計算字段的函數\n",
    "# 這些計算字段可以用來進行進一步的過濾、排序或分組操作\n",
    "# values是用來選擇查詢集中的特定字段的函數 字段就是資料庫中的欄位\n",
    "# Date-based aggregation (articles per day)\n",
    "date_counts = NewsData.objects.values('date').annotate(\n",
    "    count=Count('item_id')\n",
    ").order_by('-date')[:7]  # Last 7 days with data\n",
    "\n",
    "print(\"\\nArticles per day (most recent 7 days with data):\")\n",
    "for item in date_counts:\n",
    "    print(f\"- {item['date']}: {item['count']} articles\")\n"
   ]
  }
 ],
 "metadata": {
  "kernelspec": {
   "display_name": "ai24",
   "language": "python",
   "name": "python3"
  },
  "language_info": {
   "codemirror_mode": {
    "name": "ipython",
    "version": 3
   },
   "file_extension": ".py",
   "mimetype": "text/x-python",
   "name": "python",
   "nbconvert_exporter": "python",
   "pygments_lexer": "ipython3",
   "version": "3.10.6"
  }
 },
 "nbformat": 4,
 "nbformat_minor": 5
}
